{
  "nbformat": 4,
  "nbformat_minor": 0,
  "metadata": {
    "colab": {
      "provenance": []
    },
    "kernelspec": {
      "name": "python3",
      "display_name": "Python 3"
    },
    "language_info": {
      "name": "python"
    }
  },
  "cells": [
    {
      "cell_type": "code",
      "execution_count": null,
      "metadata": {
        "colab": {
          "base_uri": "https://localhost:8080/"
        },
        "id": "ez2JeUeuM5Yc",
        "outputId": "0164e35b-ff7b-4652-affd-e76d2927b8da"
      },
      "outputs": [
        {
          "output_type": "stream",
          "name": "stdout",
          "text": [
            "Mounted at /content/gdrive\n"
          ]
        }
      ],
      "source": [
        "from google.colab import drive\n",
        "\n",
        "drive.mount('/content/gdrive')"
      ]
    },
    {
      "cell_type": "markdown",
      "source": [
        "LOADING DATASET"
      ],
      "metadata": {
        "id": "UO6sM_82Q8e5"
      }
    },
    {
      "cell_type": "code",
      "source": [
        "import seaborn as sns\n",
        "import matplotlib.pyplot as plt\n",
        "import warnings\n",
        "import numpy as np \n",
        "import pandas as pd \n",
        "warnings.filterwarnings('ignore')\n",
        "\n",
        "# import os\n",
        "# for dirname, _, filenames in os.walk('/kaggle/input'):\n",
        "#     for filename in filenames:\n",
        "#         print(os.path.join(dirname, filename))\n",
        "\n",
        "from sklearn.linear_model import LogisticRegression\n",
        "from sklearn.neighbors import KNeighborsClassifier\n",
        "from sklearn.naive_bayes import GaussianNB,BernoulliNB\n",
        "from sklearn.svm import SVC\n",
        "from sklearn.tree import DecisionTreeClassifier\n",
        "from sklearn.ensemble import RandomForestClassifier\n",
        "from xgboost import XGBClassifier\n",
        "from sklearn.ensemble import AdaBoostClassifier\n",
        "\n",
        "from sklearn.metrics import accuracy_score,confusion_matrix,roc_auc_score,ConfusionMatrixDisplay,precision_score,recall_score,f1_score,classification_report,roc_curve,plot_roc_curve,auc,precision_recall_curve,plot_precision_recall_curve,average_precision_score\n",
        "from sklearn.model_selection import cross_val_score\n",
        "from sklearn.model_selection import GridSearchCV\n",
        "from sklearn.model_selection import train_test_split\n",
        "\n",
        "from imblearn.over_sampling import SMOTE\n",
        "from sklearn.compose import ColumnTransformer\n",
        "from sklearn.preprocessing import OneHotEncoder\n",
        "from sklearn.preprocessing import LabelEncoder\n"
      ],
      "metadata": {
        "id": "r-dfdPrtPEyH"
      },
      "execution_count": null,
      "outputs": []
    },
    {
      "cell_type": "code",
      "source": [
        "# --- Importing Dataset ---\n",
        "df = pd.read_csv(\"/content/gdrive/MyDrive/SML Project/data/heart.csv\")\n",
        "\n",
        "# --- Reading Dataset ---\n",
        "df.head().style.background_gradient(cmap='Reds').set_properties(**{'font-family': 'Segoe UI'}).hide_index()"
      ],
      "metadata": {
        "colab": {
          "base_uri": "https://localhost:8080/",
          "height": 206
        },
        "id": "Ea6oW5RnPNxM",
        "outputId": "26001b82-aad7-4772-fada-37ab7f2a1f93"
      },
      "execution_count": null,
      "outputs": [
        {
          "output_type": "execute_result",
          "data": {
            "text/plain": [
              "<pandas.io.formats.style.Styler at 0x7f38c2128bd0>"
            ],
            "text/html": [
              "<style type=\"text/css\">\n",
              "#T_0e930_row0_col0 {\n",
              "  background-color: #fdd1be;\n",
              "  color: #000000;\n",
              "  font-family: Segoe UI;\n",
              "}\n",
              "#T_0e930_row0_col1, #T_0e930_row0_col2, #T_0e930_row0_col6, #T_0e930_row0_col8, #T_0e930_row0_col10, #T_0e930_row1_col1, #T_0e930_row1_col2, #T_0e930_row1_col6, #T_0e930_row1_col8, #T_0e930_row1_col10, #T_0e930_row2_col1, #T_0e930_row2_col2, #T_0e930_row2_col6, #T_0e930_row2_col8, #T_0e930_row2_col10, #T_0e930_row3_col1, #T_0e930_row3_col2, #T_0e930_row3_col6, #T_0e930_row3_col8, #T_0e930_row3_col10, #T_0e930_row4_col1, #T_0e930_row4_col2, #T_0e930_row4_col6, #T_0e930_row4_col8, #T_0e930_row4_col10 {\n",
              "  font-family: Segoe UI;\n",
              "}\n",
              "#T_0e930_row0_col3 {\n",
              "  background-color: #fca082;\n",
              "  color: #000000;\n",
              "  font-family: Segoe UI;\n",
              "}\n",
              "#T_0e930_row0_col4, #T_0e930_row0_col7, #T_0e930_row1_col3, #T_0e930_row1_col11, #T_0e930_row3_col9, #T_0e930_row3_col11, #T_0e930_row4_col0 {\n",
              "  background-color: #67000d;\n",
              "  color: #f1f1f1;\n",
              "  font-family: Segoe UI;\n",
              "}\n",
              "#T_0e930_row0_col5, #T_0e930_row0_col9, #T_0e930_row0_col11, #T_0e930_row1_col4, #T_0e930_row1_col5, #T_0e930_row2_col0, #T_0e930_row2_col3, #T_0e930_row2_col5, #T_0e930_row2_col7, #T_0e930_row2_col9, #T_0e930_row2_col11, #T_0e930_row3_col5, #T_0e930_row4_col5, #T_0e930_row4_col9, #T_0e930_row4_col11 {\n",
              "  background-color: #fff5f0;\n",
              "  color: #000000;\n",
              "  font-family: Segoe UI;\n",
              "}\n",
              "#T_0e930_row1_col0 {\n",
              "  background-color: #d82422;\n",
              "  color: #f1f1f1;\n",
              "  font-family: Segoe UI;\n",
              "}\n",
              "#T_0e930_row1_col7 {\n",
              "  background-color: #c1161b;\n",
              "  color: #f1f1f1;\n",
              "  font-family: Segoe UI;\n",
              "}\n",
              "#T_0e930_row1_col9, #T_0e930_row4_col3 {\n",
              "  background-color: #e32f27;\n",
              "  color: #f1f1f1;\n",
              "  font-family: Segoe UI;\n",
              "}\n",
              "#T_0e930_row2_col4 {\n",
              "  background-color: #820711;\n",
              "  color: #f1f1f1;\n",
              "  font-family: Segoe UI;\n",
              "}\n",
              "#T_0e930_row3_col0 {\n",
              "  background-color: #e93529;\n",
              "  color: #f1f1f1;\n",
              "  font-family: Segoe UI;\n",
              "}\n",
              "#T_0e930_row3_col3 {\n",
              "  background-color: #fcb69b;\n",
              "  color: #000000;\n",
              "  font-family: Segoe UI;\n",
              "}\n",
              "#T_0e930_row3_col4 {\n",
              "  background-color: #fca78b;\n",
              "  color: #000000;\n",
              "  font-family: Segoe UI;\n",
              "}\n",
              "#T_0e930_row3_col7 {\n",
              "  background-color: #fedecf;\n",
              "  color: #000000;\n",
              "  font-family: Segoe UI;\n",
              "}\n",
              "#T_0e930_row4_col4 {\n",
              "  background-color: #fedccd;\n",
              "  color: #000000;\n",
              "  font-family: Segoe UI;\n",
              "}\n",
              "#T_0e930_row4_col7 {\n",
              "  background-color: #fca285;\n",
              "  color: #000000;\n",
              "  font-family: Segoe UI;\n",
              "}\n",
              "</style>\n",
              "<table id=\"T_0e930_\" class=\"dataframe\">\n",
              "  <thead>\n",
              "    <tr>\n",
              "      <th class=\"col_heading level0 col0\" >Age</th>\n",
              "      <th class=\"col_heading level0 col1\" >Sex</th>\n",
              "      <th class=\"col_heading level0 col2\" >ChestPainType</th>\n",
              "      <th class=\"col_heading level0 col3\" >RestingBP</th>\n",
              "      <th class=\"col_heading level0 col4\" >Cholesterol</th>\n",
              "      <th class=\"col_heading level0 col5\" >FastingBS</th>\n",
              "      <th class=\"col_heading level0 col6\" >RestingECG</th>\n",
              "      <th class=\"col_heading level0 col7\" >MaxHR</th>\n",
              "      <th class=\"col_heading level0 col8\" >ExerciseAngina</th>\n",
              "      <th class=\"col_heading level0 col9\" >Oldpeak</th>\n",
              "      <th class=\"col_heading level0 col10\" >ST_Slope</th>\n",
              "      <th class=\"col_heading level0 col11\" >HeartDisease</th>\n",
              "    </tr>\n",
              "  </thead>\n",
              "  <tbody>\n",
              "    <tr>\n",
              "      <td id=\"T_0e930_row0_col0\" class=\"data row0 col0\" >40</td>\n",
              "      <td id=\"T_0e930_row0_col1\" class=\"data row0 col1\" >M</td>\n",
              "      <td id=\"T_0e930_row0_col2\" class=\"data row0 col2\" >ATA</td>\n",
              "      <td id=\"T_0e930_row0_col3\" class=\"data row0 col3\" >140</td>\n",
              "      <td id=\"T_0e930_row0_col4\" class=\"data row0 col4\" >289</td>\n",
              "      <td id=\"T_0e930_row0_col5\" class=\"data row0 col5\" >0</td>\n",
              "      <td id=\"T_0e930_row0_col6\" class=\"data row0 col6\" >Normal</td>\n",
              "      <td id=\"T_0e930_row0_col7\" class=\"data row0 col7\" >172</td>\n",
              "      <td id=\"T_0e930_row0_col8\" class=\"data row0 col8\" >N</td>\n",
              "      <td id=\"T_0e930_row0_col9\" class=\"data row0 col9\" >0.000000</td>\n",
              "      <td id=\"T_0e930_row0_col10\" class=\"data row0 col10\" >Up</td>\n",
              "      <td id=\"T_0e930_row0_col11\" class=\"data row0 col11\" >0</td>\n",
              "    </tr>\n",
              "    <tr>\n",
              "      <td id=\"T_0e930_row1_col0\" class=\"data row1 col0\" >49</td>\n",
              "      <td id=\"T_0e930_row1_col1\" class=\"data row1 col1\" >F</td>\n",
              "      <td id=\"T_0e930_row1_col2\" class=\"data row1 col2\" >NAP</td>\n",
              "      <td id=\"T_0e930_row1_col3\" class=\"data row1 col3\" >160</td>\n",
              "      <td id=\"T_0e930_row1_col4\" class=\"data row1 col4\" >180</td>\n",
              "      <td id=\"T_0e930_row1_col5\" class=\"data row1 col5\" >0</td>\n",
              "      <td id=\"T_0e930_row1_col6\" class=\"data row1 col6\" >Normal</td>\n",
              "      <td id=\"T_0e930_row1_col7\" class=\"data row1 col7\" >156</td>\n",
              "      <td id=\"T_0e930_row1_col8\" class=\"data row1 col8\" >N</td>\n",
              "      <td id=\"T_0e930_row1_col9\" class=\"data row1 col9\" >1.000000</td>\n",
              "      <td id=\"T_0e930_row1_col10\" class=\"data row1 col10\" >Flat</td>\n",
              "      <td id=\"T_0e930_row1_col11\" class=\"data row1 col11\" >1</td>\n",
              "    </tr>\n",
              "    <tr>\n",
              "      <td id=\"T_0e930_row2_col0\" class=\"data row2 col0\" >37</td>\n",
              "      <td id=\"T_0e930_row2_col1\" class=\"data row2 col1\" >M</td>\n",
              "      <td id=\"T_0e930_row2_col2\" class=\"data row2 col2\" >ATA</td>\n",
              "      <td id=\"T_0e930_row2_col3\" class=\"data row2 col3\" >130</td>\n",
              "      <td id=\"T_0e930_row2_col4\" class=\"data row2 col4\" >283</td>\n",
              "      <td id=\"T_0e930_row2_col5\" class=\"data row2 col5\" >0</td>\n",
              "      <td id=\"T_0e930_row2_col6\" class=\"data row2 col6\" >ST</td>\n",
              "      <td id=\"T_0e930_row2_col7\" class=\"data row2 col7\" >98</td>\n",
              "      <td id=\"T_0e930_row2_col8\" class=\"data row2 col8\" >N</td>\n",
              "      <td id=\"T_0e930_row2_col9\" class=\"data row2 col9\" >0.000000</td>\n",
              "      <td id=\"T_0e930_row2_col10\" class=\"data row2 col10\" >Up</td>\n",
              "      <td id=\"T_0e930_row2_col11\" class=\"data row2 col11\" >0</td>\n",
              "    </tr>\n",
              "    <tr>\n",
              "      <td id=\"T_0e930_row3_col0\" class=\"data row3 col0\" >48</td>\n",
              "      <td id=\"T_0e930_row3_col1\" class=\"data row3 col1\" >F</td>\n",
              "      <td id=\"T_0e930_row3_col2\" class=\"data row3 col2\" >ASY</td>\n",
              "      <td id=\"T_0e930_row3_col3\" class=\"data row3 col3\" >138</td>\n",
              "      <td id=\"T_0e930_row3_col4\" class=\"data row3 col4\" >214</td>\n",
              "      <td id=\"T_0e930_row3_col5\" class=\"data row3 col5\" >0</td>\n",
              "      <td id=\"T_0e930_row3_col6\" class=\"data row3 col6\" >Normal</td>\n",
              "      <td id=\"T_0e930_row3_col7\" class=\"data row3 col7\" >108</td>\n",
              "      <td id=\"T_0e930_row3_col8\" class=\"data row3 col8\" >Y</td>\n",
              "      <td id=\"T_0e930_row3_col9\" class=\"data row3 col9\" >1.500000</td>\n",
              "      <td id=\"T_0e930_row3_col10\" class=\"data row3 col10\" >Flat</td>\n",
              "      <td id=\"T_0e930_row3_col11\" class=\"data row3 col11\" >1</td>\n",
              "    </tr>\n",
              "    <tr>\n",
              "      <td id=\"T_0e930_row4_col0\" class=\"data row4 col0\" >54</td>\n",
              "      <td id=\"T_0e930_row4_col1\" class=\"data row4 col1\" >M</td>\n",
              "      <td id=\"T_0e930_row4_col2\" class=\"data row4 col2\" >NAP</td>\n",
              "      <td id=\"T_0e930_row4_col3\" class=\"data row4 col3\" >150</td>\n",
              "      <td id=\"T_0e930_row4_col4\" class=\"data row4 col4\" >195</td>\n",
              "      <td id=\"T_0e930_row4_col5\" class=\"data row4 col5\" >0</td>\n",
              "      <td id=\"T_0e930_row4_col6\" class=\"data row4 col6\" >Normal</td>\n",
              "      <td id=\"T_0e930_row4_col7\" class=\"data row4 col7\" >122</td>\n",
              "      <td id=\"T_0e930_row4_col8\" class=\"data row4 col8\" >N</td>\n",
              "      <td id=\"T_0e930_row4_col9\" class=\"data row4 col9\" >0.000000</td>\n",
              "      <td id=\"T_0e930_row4_col10\" class=\"data row4 col10\" >Up</td>\n",
              "      <td id=\"T_0e930_row4_col11\" class=\"data row4 col11\" >0</td>\n",
              "    </tr>\n",
              "  </tbody>\n",
              "</table>\n"
            ]
          },
          "metadata": {},
          "execution_count": 38
        }
      ]
    },
    {
      "cell_type": "code",
      "source": [
        "df.info()"
      ],
      "metadata": {
        "colab": {
          "base_uri": "https://localhost:8080/"
        },
        "id": "HY64E7OXPXF_",
        "outputId": "4010a68a-203c-4883-8909-8773c2fb92e8"
      },
      "execution_count": null,
      "outputs": [
        {
          "output_type": "stream",
          "name": "stdout",
          "text": [
            "<class 'pandas.core.frame.DataFrame'>\n",
            "RangeIndex: 918 entries, 0 to 917\n",
            "Data columns (total 12 columns):\n",
            " #   Column          Non-Null Count  Dtype  \n",
            "---  ------          --------------  -----  \n",
            " 0   Age             918 non-null    int64  \n",
            " 1   Sex             918 non-null    object \n",
            " 2   ChestPainType   918 non-null    object \n",
            " 3   RestingBP       918 non-null    int64  \n",
            " 4   Cholesterol     918 non-null    int64  \n",
            " 5   FastingBS       918 non-null    int64  \n",
            " 6   RestingECG      918 non-null    object \n",
            " 7   MaxHR           918 non-null    int64  \n",
            " 8   ExerciseAngina  918 non-null    object \n",
            " 9   Oldpeak         918 non-null    float64\n",
            " 10  ST_Slope        918 non-null    object \n",
            " 11  HeartDisease    918 non-null    int64  \n",
            "dtypes: float64(1), int64(6), object(5)\n",
            "memory usage: 86.2+ KB\n"
          ]
        }
      ]
    },
    {
      "cell_type": "code",
      "source": [
        "df.isnull().sum()"
      ],
      "metadata": {
        "colab": {
          "base_uri": "https://localhost:8080/"
        },
        "id": "5F8IqbBLPg5v",
        "outputId": "2ecd1051-d04d-4f2b-8794-c1503c467c1f"
      },
      "execution_count": null,
      "outputs": [
        {
          "output_type": "execute_result",
          "data": {
            "text/plain": [
              "Age               0\n",
              "Sex               0\n",
              "ChestPainType     0\n",
              "RestingBP         0\n",
              "Cholesterol       0\n",
              "FastingBS         0\n",
              "RestingECG        0\n",
              "MaxHR             0\n",
              "ExerciseAngina    0\n",
              "Oldpeak           0\n",
              "ST_Slope          0\n",
              "HeartDisease      0\n",
              "dtype: int64"
            ]
          },
          "metadata": {},
          "execution_count": 40
        }
      ]
    },
    {
      "cell_type": "markdown",
      "source": [
        "No Missing Values"
      ],
      "metadata": {
        "id": "MTih1b4PTvON"
      }
    },
    {
      "cell_type": "code",
      "source": [
        "df.describe()"
      ],
      "metadata": {
        "colab": {
          "base_uri": "https://localhost:8080/",
          "height": 300
        },
        "id": "a37Q-qi5TPMV",
        "outputId": "68e32874-3e8d-42b2-8332-c154947a8d81"
      },
      "execution_count": null,
      "outputs": [
        {
          "output_type": "execute_result",
          "data": {
            "text/plain": [
              "              Age   RestingBP  Cholesterol   FastingBS       MaxHR  \\\n",
              "count  918.000000  918.000000   918.000000  918.000000  918.000000   \n",
              "mean    53.510893  132.396514   198.799564    0.233115  136.809368   \n",
              "std      9.432617   18.514154   109.384145    0.423046   25.460334   \n",
              "min     28.000000    0.000000     0.000000    0.000000   60.000000   \n",
              "25%     47.000000  120.000000   173.250000    0.000000  120.000000   \n",
              "50%     54.000000  130.000000   223.000000    0.000000  138.000000   \n",
              "75%     60.000000  140.000000   267.000000    0.000000  156.000000   \n",
              "max     77.000000  200.000000   603.000000    1.000000  202.000000   \n",
              "\n",
              "          Oldpeak  HeartDisease  \n",
              "count  918.000000    918.000000  \n",
              "mean     0.887364      0.553377  \n",
              "std      1.066570      0.497414  \n",
              "min     -2.600000      0.000000  \n",
              "25%      0.000000      0.000000  \n",
              "50%      0.600000      1.000000  \n",
              "75%      1.500000      1.000000  \n",
              "max      6.200000      1.000000  "
            ],
            "text/html": [
              "\n",
              "  <div id=\"df-07c6e8ce-e9d2-4acf-801e-a2b511be8783\">\n",
              "    <div class=\"colab-df-container\">\n",
              "      <div>\n",
              "<style scoped>\n",
              "    .dataframe tbody tr th:only-of-type {\n",
              "        vertical-align: middle;\n",
              "    }\n",
              "\n",
              "    .dataframe tbody tr th {\n",
              "        vertical-align: top;\n",
              "    }\n",
              "\n",
              "    .dataframe thead th {\n",
              "        text-align: right;\n",
              "    }\n",
              "</style>\n",
              "<table border=\"1\" class=\"dataframe\">\n",
              "  <thead>\n",
              "    <tr style=\"text-align: right;\">\n",
              "      <th></th>\n",
              "      <th>Age</th>\n",
              "      <th>RestingBP</th>\n",
              "      <th>Cholesterol</th>\n",
              "      <th>FastingBS</th>\n",
              "      <th>MaxHR</th>\n",
              "      <th>Oldpeak</th>\n",
              "      <th>HeartDisease</th>\n",
              "    </tr>\n",
              "  </thead>\n",
              "  <tbody>\n",
              "    <tr>\n",
              "      <th>count</th>\n",
              "      <td>918.000000</td>\n",
              "      <td>918.000000</td>\n",
              "      <td>918.000000</td>\n",
              "      <td>918.000000</td>\n",
              "      <td>918.000000</td>\n",
              "      <td>918.000000</td>\n",
              "      <td>918.000000</td>\n",
              "    </tr>\n",
              "    <tr>\n",
              "      <th>mean</th>\n",
              "      <td>53.510893</td>\n",
              "      <td>132.396514</td>\n",
              "      <td>198.799564</td>\n",
              "      <td>0.233115</td>\n",
              "      <td>136.809368</td>\n",
              "      <td>0.887364</td>\n",
              "      <td>0.553377</td>\n",
              "    </tr>\n",
              "    <tr>\n",
              "      <th>std</th>\n",
              "      <td>9.432617</td>\n",
              "      <td>18.514154</td>\n",
              "      <td>109.384145</td>\n",
              "      <td>0.423046</td>\n",
              "      <td>25.460334</td>\n",
              "      <td>1.066570</td>\n",
              "      <td>0.497414</td>\n",
              "    </tr>\n",
              "    <tr>\n",
              "      <th>min</th>\n",
              "      <td>28.000000</td>\n",
              "      <td>0.000000</td>\n",
              "      <td>0.000000</td>\n",
              "      <td>0.000000</td>\n",
              "      <td>60.000000</td>\n",
              "      <td>-2.600000</td>\n",
              "      <td>0.000000</td>\n",
              "    </tr>\n",
              "    <tr>\n",
              "      <th>25%</th>\n",
              "      <td>47.000000</td>\n",
              "      <td>120.000000</td>\n",
              "      <td>173.250000</td>\n",
              "      <td>0.000000</td>\n",
              "      <td>120.000000</td>\n",
              "      <td>0.000000</td>\n",
              "      <td>0.000000</td>\n",
              "    </tr>\n",
              "    <tr>\n",
              "      <th>50%</th>\n",
              "      <td>54.000000</td>\n",
              "      <td>130.000000</td>\n",
              "      <td>223.000000</td>\n",
              "      <td>0.000000</td>\n",
              "      <td>138.000000</td>\n",
              "      <td>0.600000</td>\n",
              "      <td>1.000000</td>\n",
              "    </tr>\n",
              "    <tr>\n",
              "      <th>75%</th>\n",
              "      <td>60.000000</td>\n",
              "      <td>140.000000</td>\n",
              "      <td>267.000000</td>\n",
              "      <td>0.000000</td>\n",
              "      <td>156.000000</td>\n",
              "      <td>1.500000</td>\n",
              "      <td>1.000000</td>\n",
              "    </tr>\n",
              "    <tr>\n",
              "      <th>max</th>\n",
              "      <td>77.000000</td>\n",
              "      <td>200.000000</td>\n",
              "      <td>603.000000</td>\n",
              "      <td>1.000000</td>\n",
              "      <td>202.000000</td>\n",
              "      <td>6.200000</td>\n",
              "      <td>1.000000</td>\n",
              "    </tr>\n",
              "  </tbody>\n",
              "</table>\n",
              "</div>\n",
              "      <button class=\"colab-df-convert\" onclick=\"convertToInteractive('df-07c6e8ce-e9d2-4acf-801e-a2b511be8783')\"\n",
              "              title=\"Convert this dataframe to an interactive table.\"\n",
              "              style=\"display:none;\">\n",
              "        \n",
              "  <svg xmlns=\"http://www.w3.org/2000/svg\" height=\"24px\"viewBox=\"0 0 24 24\"\n",
              "       width=\"24px\">\n",
              "    <path d=\"M0 0h24v24H0V0z\" fill=\"none\"/>\n",
              "    <path d=\"M18.56 5.44l.94 2.06.94-2.06 2.06-.94-2.06-.94-.94-2.06-.94 2.06-2.06.94zm-11 1L8.5 8.5l.94-2.06 2.06-.94-2.06-.94L8.5 2.5l-.94 2.06-2.06.94zm10 10l.94 2.06.94-2.06 2.06-.94-2.06-.94-.94-2.06-.94 2.06-2.06.94z\"/><path d=\"M17.41 7.96l-1.37-1.37c-.4-.4-.92-.59-1.43-.59-.52 0-1.04.2-1.43.59L10.3 9.45l-7.72 7.72c-.78.78-.78 2.05 0 2.83L4 21.41c.39.39.9.59 1.41.59.51 0 1.02-.2 1.41-.59l7.78-7.78 2.81-2.81c.8-.78.8-2.07 0-2.86zM5.41 20L4 18.59l7.72-7.72 1.47 1.35L5.41 20z\"/>\n",
              "  </svg>\n",
              "      </button>\n",
              "      \n",
              "  <style>\n",
              "    .colab-df-container {\n",
              "      display:flex;\n",
              "      flex-wrap:wrap;\n",
              "      gap: 12px;\n",
              "    }\n",
              "\n",
              "    .colab-df-convert {\n",
              "      background-color: #E8F0FE;\n",
              "      border: none;\n",
              "      border-radius: 50%;\n",
              "      cursor: pointer;\n",
              "      display: none;\n",
              "      fill: #1967D2;\n",
              "      height: 32px;\n",
              "      padding: 0 0 0 0;\n",
              "      width: 32px;\n",
              "    }\n",
              "\n",
              "    .colab-df-convert:hover {\n",
              "      background-color: #E2EBFA;\n",
              "      box-shadow: 0px 1px 2px rgba(60, 64, 67, 0.3), 0px 1px 3px 1px rgba(60, 64, 67, 0.15);\n",
              "      fill: #174EA6;\n",
              "    }\n",
              "\n",
              "    [theme=dark] .colab-df-convert {\n",
              "      background-color: #3B4455;\n",
              "      fill: #D2E3FC;\n",
              "    }\n",
              "\n",
              "    [theme=dark] .colab-df-convert:hover {\n",
              "      background-color: #434B5C;\n",
              "      box-shadow: 0px 1px 3px 1px rgba(0, 0, 0, 0.15);\n",
              "      filter: drop-shadow(0px 1px 2px rgba(0, 0, 0, 0.3));\n",
              "      fill: #FFFFFF;\n",
              "    }\n",
              "  </style>\n",
              "\n",
              "      <script>\n",
              "        const buttonEl =\n",
              "          document.querySelector('#df-07c6e8ce-e9d2-4acf-801e-a2b511be8783 button.colab-df-convert');\n",
              "        buttonEl.style.display =\n",
              "          google.colab.kernel.accessAllowed ? 'block' : 'none';\n",
              "\n",
              "        async function convertToInteractive(key) {\n",
              "          const element = document.querySelector('#df-07c6e8ce-e9d2-4acf-801e-a2b511be8783');\n",
              "          const dataTable =\n",
              "            await google.colab.kernel.invokeFunction('convertToInteractive',\n",
              "                                                     [key], {});\n",
              "          if (!dataTable) return;\n",
              "\n",
              "          const docLinkHtml = 'Like what you see? Visit the ' +\n",
              "            '<a target=\"_blank\" href=https://colab.research.google.com/notebooks/data_table.ipynb>data table notebook</a>'\n",
              "            + ' to learn more about interactive tables.';\n",
              "          element.innerHTML = '';\n",
              "          dataTable['output_type'] = 'display_data';\n",
              "          await google.colab.output.renderOutput(dataTable, element);\n",
              "          const docLink = document.createElement('div');\n",
              "          docLink.innerHTML = docLinkHtml;\n",
              "          element.appendChild(docLink);\n",
              "        }\n",
              "      </script>\n",
              "    </div>\n",
              "  </div>\n",
              "  "
            ]
          },
          "metadata": {},
          "execution_count": 41
        }
      ]
    },
    {
      "cell_type": "markdown",
      "source": [
        "DATA VIS"
      ],
      "metadata": {
        "id": "o_5duK1kT3Dn"
      }
    },
    {
      "cell_type": "code",
      "source": [
        "# compute the corr matrix\n",
        "\n",
        "corr = df.corr()\n",
        "\n",
        "# generate a mask for the upper triangle\n",
        "mask = np.triu(np.ones_like(corr,dtype=bool))\n",
        "\n",
        "# set up the matplotlib figure\n",
        "f, ax = plt.subplots(figsize=(11,9))\n",
        "\n",
        "# generate a custom diverging colormap\n",
        "cmap = sns.diverging_palette(230,20,as_cmap=True)\n",
        "\n",
        "#draw the heatpmap with the mask and correct aspect ratio\n",
        "sns.heatmap(corr,mask=mask,cmap=cmap,vmax=.3,center=0,square=True,linewidths=.5,cbar_kws={'shrink':.5})"
      ],
      "metadata": {
        "colab": {
          "base_uri": "https://localhost:8080/",
          "height": 766
        },
        "id": "VKOLP3XLTPWT",
        "outputId": "e1c8e19b-3b1d-4061-cc8c-6c778df7b5dc"
      },
      "execution_count": null,
      "outputs": [
        {
          "output_type": "execute_result",
          "data": {
            "text/plain": [
              "<matplotlib.axes._subplots.AxesSubplot at 0x7f38c23fa450>"
            ]
          },
          "metadata": {},
          "execution_count": 42
        },
        {
          "output_type": "display_data",
          "data": {
            "text/plain": [
              "<Figure size 1100x900 with 2 Axes>"
            ],
            "image/png": "[encoded data removed]"
          },
          "metadata": {}
        }
      ]
    },
    {
      "cell_type": "code",
      "source": [
        "print(df.Sex.value_counts())\n",
        "sns.set_theme(style='darkgrid')\n",
        "ax = sns.countplot(data=df,x='Sex')"
      ],
      "metadata": {
        "colab": {
          "base_uri": "https://localhost:8080/",
          "height": 560
        },
        "id": "NExMOhTmThvA",
        "outputId": "86494bcf-4601-4f51-9731-76e7165c0d30"
      },
      "execution_count": null,
      "outputs": [
        {
          "output_type": "stream",
          "name": "stdout",
          "text": [
            "M    725\n",
            "F    193\n",
            "Name: Sex, dtype: int64\n"
          ]
        },
        {
          "output_type": "display_data",
          "data": {
            "text/plain": [
              "<Figure size 800x550 with 1 Axes>"
            ],
            "image/png": "[encoded data removed]"
          },
          "metadata": {}
        }
      ]
    },
    {
      "cell_type": "markdown",
      "source": [
        "DATA PREPROCESS"
      ],
      "metadata": {
        "id": "I9Y-9gXVV2c5"
      }
    },
    {
      "cell_type": "code",
      "source": [
        "df.head()"
      ],
      "metadata": {
        "colab": {
          "base_uri": "https://localhost:8080/",
          "height": 206
        },
        "id": "EteuARTzVUVL",
        "outputId": "9a6a30ba-2171-4b9f-d181-92da20ff330e"
      },
      "execution_count": null,
      "outputs": [
        {
          "output_type": "execute_result",
          "data": {
            "text/plain": [
              "   Age Sex ChestPainType  RestingBP  Cholesterol  FastingBS RestingECG  MaxHR  \\\n",
              "0   40   M           ATA        140          289          0     Normal    172   \n",
              "1   49   F           NAP        160          180          0     Normal    156   \n",
              "2   37   M           ATA        130          283          0         ST     98   \n",
              "3   48   F           ASY        138          214          0     Normal    108   \n",
              "4   54   M           NAP        150          195          0     Normal    122   \n",
              "\n",
              "  ExerciseAngina  Oldpeak ST_Slope  HeartDisease  \n",
              "0              N      0.0       Up             0  \n",
              "1              N      1.0     Flat             1  \n",
              "2              N      0.0       Up             0  \n",
              "3              Y      1.5     Flat             1  \n",
              "4              N      0.0       Up             0  "
            ],
            "text/html": [
              "\n",
              "  <div id=\"df-cc82acb3-a20b-467f-8a36-a42d87cb2445\">\n",
              "    <div class=\"colab-df-container\">\n",
              "      <div>\n",
              "<style scoped>\n",
              "    .dataframe tbody tr th:only-of-type {\n",
              "        vertical-align: middle;\n",
              "    }\n",
              "\n",
              "    .dataframe tbody tr th {\n",
              "        vertical-align: top;\n",
              "    }\n",
              "\n",
              "    .dataframe thead th {\n",
              "        text-align: right;\n",
              "    }\n",
              "</style>\n",
              "<table border=\"1\" class=\"dataframe\">\n",
              "  <thead>\n",
              "    <tr style=\"text-align: right;\">\n",
              "      <th></th>\n",
              "      <th>Age</th>\n",
              "      <th>Sex</th>\n",
              "      <th>ChestPainType</th>\n",
              "      <th>RestingBP</th>\n",
              "      <th>Cholesterol</th>\n",
              "      <th>FastingBS</th>\n",
              "      <th>RestingECG</th>\n",
              "      <th>MaxHR</th>\n",
              "      <th>ExerciseAngina</th>\n",
              "      <th>Oldpeak</th>\n",
              "      <th>ST_Slope</th>\n",
              "      <th>HeartDisease</th>\n",
              "    </tr>\n",
              "  </thead>\n",
              "  <tbody>\n",
              "    <tr>\n",
              "      <th>0</th>\n",
              "      <td>40</td>\n",
              "      <td>M</td>\n",
              "      <td>ATA</td>\n",
              "      <td>140</td>\n",
              "      <td>289</td>\n",
              "      <td>0</td>\n",
              "      <td>Normal</td>\n",
              "      <td>172</td>\n",
              "      <td>N</td>\n",
              "      <td>0.0</td>\n",
              "      <td>Up</td>\n",
              "      <td>0</td>\n",
              "    </tr>\n",
              "    <tr>\n",
              "      <th>1</th>\n",
              "      <td>49</td>\n",
              "      <td>F</td>\n",
              "      <td>NAP</td>\n",
              "      <td>160</td>\n",
              "      <td>180</td>\n",
              "      <td>0</td>\n",
              "      <td>Normal</td>\n",
              "      <td>156</td>\n",
              "      <td>N</td>\n",
              "      <td>1.0</td>\n",
              "      <td>Flat</td>\n",
              "      <td>1</td>\n",
              "    </tr>\n",
              "    <tr>\n",
              "      <th>2</th>\n",
              "      <td>37</td>\n",
              "      <td>M</td>\n",
              "      <td>ATA</td>\n",
              "      <td>130</td>\n",
              "      <td>283</td>\n",
              "      <td>0</td>\n",
              "      <td>ST</td>\n",
              "      <td>98</td>\n",
              "      <td>N</td>\n",
              "      <td>0.0</td>\n",
              "      <td>Up</td>\n",
              "      <td>0</td>\n",
              "    </tr>\n",
              "    <tr>\n",
              "      <th>3</th>\n",
              "      <td>48</td>\n",
              "      <td>F</td>\n",
              "      <td>ASY</td>\n",
              "      <td>138</td>\n",
              "      <td>214</td>\n",
              "      <td>0</td>\n",
              "      <td>Normal</td>\n",
              "      <td>108</td>\n",
              "      <td>Y</td>\n",
              "      <td>1.5</td>\n",
              "      <td>Flat</td>\n",
              "      <td>1</td>\n",
              "    </tr>\n",
              "    <tr>\n",
              "      <th>4</th>\n",
              "      <td>54</td>\n",
              "      <td>M</td>\n",
              "      <td>NAP</td>\n",
              "      <td>150</td>\n",
              "      <td>195</td>\n",
              "      <td>0</td>\n",
              "      <td>Normal</td>\n",
              "      <td>122</td>\n",
              "      <td>N</td>\n",
              "      <td>0.0</td>\n",
              "      <td>Up</td>\n",
              "      <td>0</td>\n",
              "    </tr>\n",
              "  </tbody>\n",
              "</table>\n",
              "</div>\n",
              "      <button class=\"colab-df-convert\" onclick=\"convertToInteractive('df-cc82acb3-a20b-467f-8a36-a42d87cb2445')\"\n",
              "              title=\"Convert this dataframe to an interactive table.\"\n",
              "              style=\"display:none;\">\n",
              "        \n",
              "  <svg xmlns=\"http://www.w3.org/2000/svg\" height=\"24px\"viewBox=\"0 0 24 24\"\n",
              "       width=\"24px\">\n",
              "    <path d=\"M0 0h24v24H0V0z\" fill=\"none\"/>\n",
              "    <path d=\"M18.56 5.44l.94 2.06.94-2.06 2.06-.94-2.06-.94-.94-2.06-.94 2.06-2.06.94zm-11 1L8.5 8.5l.94-2.06 2.06-.94-2.06-.94L8.5 2.5l-.94 2.06-2.06.94zm10 10l.94 2.06.94-2.06 2.06-.94-2.06-.94-.94-2.06-.94 2.06-2.06.94z\"/><path d=\"M17.41 7.96l-1.37-1.37c-.4-.4-.92-.59-1.43-.59-.52 0-1.04.2-1.43.59L10.3 9.45l-7.72 7.72c-.78.78-.78 2.05 0 2.83L4 21.41c.39.39.9.59 1.41.59.51 0 1.02-.2 1.41-.59l7.78-7.78 2.81-2.81c.8-.78.8-2.07 0-2.86zM5.41 20L4 18.59l7.72-7.72 1.47 1.35L5.41 20z\"/>\n",
              "  </svg>\n",
              "      </button>\n",
              "      \n",
              "  <style>\n",
              "    .colab-df-container {\n",
              "      display:flex;\n",
              "      flex-wrap:wrap;\n",
              "      gap: 12px;\n",
              "    }\n",
              "\n",
              "    .colab-df-convert {\n",
              "      background-color: #E8F0FE;\n",
              "      border: none;\n",
              "      border-radius: 50%;\n",
              "      cursor: pointer;\n",
              "      display: none;\n",
              "      fill: #1967D2;\n",
              "      height: 32px;\n",
              "      padding: 0 0 0 0;\n",
              "      width: 32px;\n",
              "    }\n",
              "\n",
              "    .colab-df-convert:hover {\n",
              "      background-color: #E2EBFA;\n",
              "      box-shadow: 0px 1px 2px rgba(60, 64, 67, 0.3), 0px 1px 3px 1px rgba(60, 64, 67, 0.15);\n",
              "      fill: #174EA6;\n",
              "    }\n",
              "\n",
              "    [theme=dark] .colab-df-convert {\n",
              "      background-color: #3B4455;\n",
              "      fill: #D2E3FC;\n",
              "    }\n",
              "\n",
              "    [theme=dark] .colab-df-convert:hover {\n",
              "      background-color: #434B5C;\n",
              "      box-shadow: 0px 1px 3px 1px rgba(0, 0, 0, 0.15);\n",
              "      filter: drop-shadow(0px 1px 2px rgba(0, 0, 0, 0.3));\n",
              "      fill: #FFFFFF;\n",
              "    }\n",
              "  </style>\n",
              "\n",
              "      <script>\n",
              "        const buttonEl =\n",
              "          document.querySelector('#df-cc82acb3-a20b-467f-8a36-a42d87cb2445 button.colab-df-convert');\n",
              "        buttonEl.style.display =\n",
              "          google.colab.kernel.accessAllowed ? 'block' : 'none';\n",
              "\n",
              "        async function convertToInteractive(key) {\n",
              "          const element = document.querySelector('#df-cc82acb3-a20b-467f-8a36-a42d87cb2445');\n",
              "          const dataTable =\n",
              "            await google.colab.kernel.invokeFunction('convertToInteractive',\n",
              "                                                     [key], {});\n",
              "          if (!dataTable) return;\n",
              "\n",
              "          const docLinkHtml = 'Like what you see? Visit the ' +\n",
              "            '<a target=\"_blank\" href=https://colab.research.google.com/notebooks/data_table.ipynb>data table notebook</a>'\n",
              "            + ' to learn more about interactive tables.';\n",
              "          element.innerHTML = '';\n",
              "          dataTable['output_type'] = 'display_data';\n",
              "          await google.colab.output.renderOutput(dataTable, element);\n",
              "          const docLink = document.createElement('div');\n",
              "          docLink.innerHTML = docLinkHtml;\n",
              "          element.appendChild(docLink);\n",
              "        }\n",
              "      </script>\n",
              "    </div>\n",
              "  </div>\n",
              "  "
            ]
          },
          "metadata": {},
          "execution_count": 44
        }
      ]
    },
    {
      "cell_type": "code",
      "source": [
        "le = LabelEncoder()\n",
        "df['Sex'] = le.fit_transform(df['Sex'])\n",
        "df['ChestPainType'] = le.fit_transform(df['ChestPainType'])\n",
        "df['RestingECG'] = le.fit_transform(df['RestingECG'])\n",
        "df['ExerciseAngina'] = le.fit_transform(df['ExerciseAngina'])\n",
        "df['ST_Slope'] = le.fit_transform(df['ST_Slope'])"
      ],
      "metadata": {
        "id": "34XZKZBXV9UP"
      },
      "execution_count": null,
      "outputs": []
    },
    {
      "cell_type": "code",
      "source": [
        "x = df.iloc[:,1:-1].values\n",
        "y = df.iloc[:,-1].values\n",
        "\n",
        "print('X Shape', x.shape)\n",
        "print('Y Shape',y.shape)"
      ],
      "metadata": {
        "colab": {
          "base_uri": "https://localhost:8080/"
        },
        "id": "E5g1e5v3WpRL",
        "outputId": "f3d13a56-cacf-457a-f16b-a5d33855acce"
      },
      "execution_count": null,
      "outputs": [
        {
          "output_type": "stream",
          "name": "stdout",
          "text": [
            "X Shape (918, 10)\n",
            "Y Shape (918,)\n"
          ]
        }
      ]
    },
    {
      "cell_type": "code",
      "source": [
        "ct = ColumnTransformer(transformers=[('encoder',OneHotEncoder(),[0,5,9])],remainder='passthrough')\n",
        "x = np.array(ct.fit_transform(x))"
      ],
      "metadata": {
        "id": "3Po8w3Q5Wu_A"
      },
      "execution_count": null,
      "outputs": []
    },
    {
      "cell_type": "code",
      "source": [
        "X_train,X_test,y_train,y_test = train_test_split(x,y,test_size=0.2,random_state=0)\n",
        "\n",
        "print('Number transations x_train df',X_train.shape)\n",
        "print('Number transations x_test df',X_test.shape)\n",
        "print('Number transations y_train df',y_train.shape)\n",
        "print('Number transations y_test df',y_test.shape)"
      ],
      "metadata": {
        "colab": {
          "base_uri": "https://localhost:8080/"
        },
        "id": "ObTiuTVhWwRN",
        "outputId": "846a1e3a-818e-4127-94f9-737095d6b9cc"
      },
      "execution_count": null,
      "outputs": [
        {
          "output_type": "stream",
          "name": "stdout",
          "text": [
            "Number transations x_train df (734, 15)\n",
            "Number transations x_test df (184, 15)\n",
            "Number transations y_train df (734,)\n",
            "Number transations y_test df (184,)\n"
          ]
        }
      ]
    },
    {
      "cell_type": "code",
      "source": [
        "# SMOTE \n",
        "# pip install imblearn\n",
        "# from imblearn.over_sampling import SMOTE\n",
        "\n",
        "print('Before OverSampling, counts of label 1: {}'.format(sum(y_train==1)))\n",
        "print('Before OverSampling, counts of label 0: {} \\n'.format(sum(y_train==0)))"
      ],
      "metadata": {
        "colab": {
          "base_uri": "https://localhost:8080/"
        },
        "id": "G9HUyUjRWzqi",
        "outputId": "78690a5f-0d0b-4516-8812-61bca7c1af9e"
      },
      "execution_count": null,
      "outputs": [
        {
          "output_type": "stream",
          "name": "stdout",
          "text": [
            "Before OverSampling, counts of label 1: 401\n",
            "Before OverSampling, counts of label 0: 333 \n",
            "\n"
          ]
        }
      ]
    },
    {
      "cell_type": "code",
      "source": [
        "sm = SMOTE(random_state=2)\n",
        "X_train_res, y_train_res = sm.fit_resample(X_train,y_train.ravel())\n",
        "\n",
        "print('After OverSampling, the shape of train_x: {}'.format(X_train_res.shape))\n",
        "print('After OverSampling, the shape of train_y: {}'.format(y_train_res.shape))\n",
        "\n",
        "print('After OverSampling, counts of label 1: {}'.format(sum(y_train_res == 1)))\n",
        "print('After OverSampling, counts of label 0: {}'.format(sum(y_train_res == 0)))"
      ],
      "metadata": {
        "colab": {
          "base_uri": "https://localhost:8080/"
        },
        "id": "VYT0C4FJW6O2",
        "outputId": "967bfa86-def6-4b69-c25c-100b598e0903"
      },
      "execution_count": null,
      "outputs": [
        {
          "output_type": "stream",
          "name": "stdout",
          "text": [
            "After OverSampling, the shape of train_x: (802, 15)\n",
            "After OverSampling, the shape of train_y: (802,)\n",
            "After OverSampling, counts of label 1: 401\n",
            "After OverSampling, counts of label 0: 401\n"
          ]
        }
      ]
    },
    {
      "cell_type": "markdown",
      "source": [
        "MODEL SELECTION"
      ],
      "metadata": {
        "id": "WlRLBe49XAFf"
      }
    },
    {
      "cell_type": "code",
      "source": [
        "models = []\n",
        "models.append(['XGBClassifier',XGBClassifier(learning_rate=0.1,objective='binary:logistic',random_state=0,eval_metric='mlogloss')])\n",
        "models.append(['Logistic Regression',LogisticRegression(random_state=0)])\n",
        "models.append(['SVM',SVC(random_state=0)])\n",
        "models.append(['KNeigbors',KNeighborsClassifier()])\n",
        "models.append(['GaussianNB',GaussianNB()])\n",
        "models.append(['BernoulliNB',BernoulliNB()])\n",
        "models.append(['DecisionTree',DecisionTreeClassifier(random_state=0)])\n",
        "models.append(['RandomForest',RandomForestClassifier(random_state=0)])\n",
        "models.append(['AdaBoostClassifier',AdaBoostClassifier()])"
      ],
      "metadata": {
        "id": "FFV1qmx9W9yA"
      },
      "execution_count": null,
      "outputs": []
    },
    {
      "cell_type": "code",
      "source": [
        "lst_1 = []\n",
        "for m in range(len(models)):\n",
        "    lst_2 = []\n",
        "    model = models[m][1]\n",
        "    model.fit(X_train_res,y_train_res)\n",
        "    y_pred = model.predict(X_test)\n",
        "    cm = confusion_matrix(y_test,y_pred)\n",
        "    accuracies = cross_val_score(estimator= model, X = X_train_res,y = y_train_res, cv=10)\n",
        "\n",
        "# k-fOLD Validation\n",
        "    roc = roc_auc_score(y_test,y_pred)\n",
        "    precision = precision_score(y_test,y_pred)\n",
        "    recall = recall_score(y_test,y_pred)\n",
        "    f1 = f1_score(y_test,y_pred)\n",
        "    print(models[m][0],':')\n",
        "    print(cm)\n",
        "    print('Accuracy Score: ',accuracy_score(y_test,y_pred))\n",
        "    print('')\n",
        "    print('K-Fold Validation Mean Accuracy: {:.2f} %'.format(accuracies.mean()*100))\n",
        "    print('')\n",
        "    print('Standard Deviation: {:.2f} %'.format(accuracies.std()*100))\n",
        "    print('')\n",
        "    print('ROC AUC Score: {:.2f} %'.format(roc))\n",
        "    print('')\n",
        "    print('Precision: {:.2f} %'.format(precision))\n",
        "    print('')\n",
        "    print('Recall: {:.2f} %'.format(recall))\n",
        "    print('')\n",
        "    print('F1 Score: {:.2f} %'.format(f1))\n",
        "    print('-'*40)\n",
        "    print('')\n",
        "    lst_2.append(models[m][0])\n",
        "    lst_2.append(accuracy_score(y_test,y_pred)*100)\n",
        "    lst_2.append(accuracies.mean()*100)\n",
        "    lst_2.append(accuracies.std()*100)\n",
        "    lst_2.append(roc)\n",
        "    lst_2.append(precision)\n",
        "    lst_2.append(recall)\n",
        "    lst_2.append(f1)\n",
        "    lst_1.append(lst_2)"
      ],
      "metadata": {
        "colab": {
          "base_uri": "https://localhost:8080/"
        },
        "id": "XSTUZiOSXFEJ",
        "outputId": "dd3740a8-3f86-4d8b-af48-5369224369c4"
      },
      "execution_count": null,
      "outputs": [
        {
          "output_type": "stream",
          "name": "stdout",
          "text": [
            "XGBClassifier :\n",
            "[[62 15]\n",
            " [10 97]]\n",
            "Accuracy Score:  0.8641304347826086\n",
            "\n",
            "K-Fold Validation Mean Accuracy: 88.04 %\n",
            "\n",
            "Standard Deviation: 3.04 %\n",
            "\n",
            "ROC AUC Score: 0.86 %\n",
            "\n",
            "Precision: 0.87 %\n",
            "\n",
            "Recall: 0.91 %\n",
            "\n",
            "F1 Score: 0.89 %\n",
            "----------------------------------------\n",
            "\n",
            "Logistic Regression :\n",
            "[[60 17]\n",
            " [16 91]]\n",
            "Accuracy Score:  0.8206521739130435\n",
            "\n",
            "K-Fold Validation Mean Accuracy: 86.79 %\n",
            "\n",
            "Standard Deviation: 3.77 %\n",
            "\n",
            "ROC AUC Score: 0.81 %\n",
            "\n",
            "Precision: 0.84 %\n",
            "\n",
            "Recall: 0.85 %\n",
            "\n",
            "F1 Score: 0.85 %\n",
            "----------------------------------------\n",
            "\n",
            "SVM :\n",
            "[[58 19]\n",
            " [38 69]]\n",
            "Accuracy Score:  0.6902173913043478\n",
            "\n",
            "K-Fold Validation Mean Accuracy: 70.82 %\n",
            "\n",
            "Standard Deviation: 4.57 %\n",
            "\n",
            "ROC AUC Score: 0.70 %\n",
            "\n",
            "Precision: 0.78 %\n",
            "\n",
            "Recall: 0.64 %\n",
            "\n",
            "F1 Score: 0.71 %\n",
            "----------------------------------------\n",
            "\n",
            "KNeigbors :\n",
            "[[46 31]\n",
            " [29 78]]\n",
            "Accuracy Score:  0.6739130434782609\n",
            "\n",
            "K-Fold Validation Mean Accuracy: 71.45 %\n",
            "\n",
            "Standard Deviation: 4.38 %\n",
            "\n",
            "ROC AUC Score: 0.66 %\n",
            "\n",
            "Precision: 0.72 %\n",
            "\n",
            "Recall: 0.73 %\n",
            "\n",
            "F1 Score: 0.72 %\n",
            "----------------------------------------\n",
            "\n",
            "GaussianNB :\n",
            "[[64 13]\n",
            " [13 94]]\n",
            "Accuracy Score:  0.8586956521739131\n",
            "\n",
            "K-Fold Validation Mean Accuracy: 86.03 %\n",
            "\n",
            "Standard Deviation: 4.93 %\n",
            "\n",
            "ROC AUC Score: 0.85 %\n",
            "\n",
            "Precision: 0.88 %\n",
            "\n",
            "Recall: 0.88 %\n",
            "\n",
            "F1 Score: 0.88 %\n",
            "----------------------------------------\n",
            "\n",
            "BernoulliNB :\n",
            "[[59 18]\n",
            " [13 94]]\n",
            "Accuracy Score:  0.8315217391304348\n",
            "\n",
            "K-Fold Validation Mean Accuracy: 87.03 %\n",
            "\n",
            "Standard Deviation: 3.45 %\n",
            "\n",
            "ROC AUC Score: 0.82 %\n",
            "\n",
            "Precision: 0.84 %\n",
            "\n",
            "Recall: 0.88 %\n",
            "\n",
            "F1 Score: 0.86 %\n",
            "----------------------------------------\n",
            "\n",
            "DecisionTree :\n",
            "[[64 13]\n",
            " [27 80]]\n",
            "Accuracy Score:  0.782608695652174\n",
            "\n",
            "K-Fold Validation Mean Accuracy: 81.56 %\n",
            "\n",
            "Standard Deviation: 4.89 %\n",
            "\n",
            "ROC AUC Score: 0.79 %\n",
            "\n",
            "Precision: 0.86 %\n",
            "\n",
            "Recall: 0.75 %\n",
            "\n",
            "F1 Score: 0.80 %\n",
            "----------------------------------------\n",
            "\n",
            "RandomForest :\n",
            "[[59 18]\n",
            " [10 97]]\n",
            "Accuracy Score:  0.8478260869565217\n",
            "\n",
            "K-Fold Validation Mean Accuracy: 87.92 %\n",
            "\n",
            "Standard Deviation: 4.11 %\n",
            "\n",
            "ROC AUC Score: 0.84 %\n",
            "\n",
            "Precision: 0.84 %\n",
            "\n",
            "Recall: 0.91 %\n",
            "\n",
            "F1 Score: 0.87 %\n",
            "----------------------------------------\n",
            "\n",
            "AdaBoostClassifier :\n",
            "[[59 18]\n",
            " [15 92]]\n",
            "Accuracy Score:  0.8206521739130435\n",
            "\n",
            "K-Fold Validation Mean Accuracy: 87.78 %\n",
            "\n",
            "Standard Deviation: 3.15 %\n",
            "\n",
            "ROC AUC Score: 0.81 %\n",
            "\n",
            "Precision: 0.84 %\n",
            "\n",
            "Recall: 0.86 %\n",
            "\n",
            "F1 Score: 0.85 %\n",
            "----------------------------------------\n",
            "\n"
          ]
        }
      ]
    },
    {
      "cell_type": "code",
      "source": [
        "df2 = pd.DataFrame(lst_1,columns=['Model','Accuracy','K-Fold Mean Accuracy','Std.Deviation','ROC_AUC','Precision','Recall','F1 Score'])\n",
        "\n",
        "df2.sort_values(by=['Accuracy','K-Fold Mean Accuracy'],inplace=True,ascending=False)\n",
        "df2\n",
        "\n",
        "# COMPARE"
      ],
      "metadata": {
        "colab": {
          "base_uri": "https://localhost:8080/",
          "height": 332
        },
        "id": "H6qZjm0mXtvh",
        "outputId": "84c95c6f-d209-4c55-a4c5-af0a97e75980"
      },
      "execution_count": null,
      "outputs": [
        {
          "output_type": "execute_result",
          "data": {
            "text/plain": [
              "                 Model   Accuracy  K-Fold Mean Accuracy  Std.Deviation  \\\n",
              "0        XGBClassifier  86.413043             88.037037       3.036571   \n",
              "4           GaussianNB  85.869565             86.032407       4.932087   \n",
              "7         RandomForest  84.782609             87.915123       4.107417   \n",
              "5          BernoulliNB  83.152174             87.033951       3.447248   \n",
              "8   AdaBoostClassifier  82.065217             87.779321       3.153677   \n",
              "1  Logistic Regression  82.065217             86.790123       3.767696   \n",
              "6         DecisionTree  78.260870             81.558642       4.894282   \n",
              "2                  SVM  69.021739             70.820988       4.571590   \n",
              "3            KNeigbors  67.391304             71.449074       4.383055   \n",
              "\n",
              "    ROC_AUC  Precision    Recall  F1 Score  \n",
              "0  0.855868   0.866071  0.906542  0.885845  \n",
              "4  0.854837   0.878505  0.878505  0.878505  \n",
              "7  0.836388   0.843478  0.906542  0.873874  \n",
              "5  0.822369   0.839286  0.878505  0.858447  \n",
              "8  0.813023   0.836364  0.859813  0.847926  \n",
              "1  0.814844   0.842593  0.850467  0.846512  \n",
              "6  0.789416   0.860215  0.747664  0.800000  \n",
              "2  0.699053   0.784091  0.644860  0.707692  \n",
              "3  0.663187   0.715596  0.728972  0.722222  "
            ],
            "text/html": [
              "\n",
              "  <div id=\"df-caa19b5a-033c-4c25-8117-9b8ce39cf821\">\n",
              "    <div class=\"colab-df-container\">\n",
              "      <div>\n",
              "<style scoped>\n",
              "    .dataframe tbody tr th:only-of-type {\n",
              "        vertical-align: middle;\n",
              "    }\n",
              "\n",
              "    .dataframe tbody tr th {\n",
              "        vertical-align: top;\n",
              "    }\n",
              "\n",
              "    .dataframe thead th {\n",
              "        text-align: right;\n",
              "    }\n",
              "</style>\n",
              "<table border=\"1\" class=\"dataframe\">\n",
              "  <thead>\n",
              "    <tr style=\"text-align: right;\">\n",
              "      <th></th>\n",
              "      <th>Model</th>\n",
              "      <th>Accuracy</th>\n",
              "      <th>K-Fold Mean Accuracy</th>\n",
              "      <th>Std.Deviation</th>\n",
              "      <th>ROC_AUC</th>\n",
              "      <th>Precision</th>\n",
              "      <th>Recall</th>\n",
              "      <th>F1 Score</th>\n",
              "    </tr>\n",
              "  </thead>\n",
              "  <tbody>\n",
              "    <tr>\n",
              "      <th>0</th>\n",
              "      <td>XGBClassifier</td>\n",
              "      <td>86.413043</td>\n",
              "      <td>88.037037</td>\n",
              "      <td>3.036571</td>\n",
              "      <td>0.855868</td>\n",
              "      <td>0.866071</td>\n",
              "      <td>0.906542</td>\n",
              "      <td>0.885845</td>\n",
              "    </tr>\n",
              "    <tr>\n",
              "      <th>4</th>\n",
              "      <td>GaussianNB</td>\n",
              "      <td>85.869565</td>\n",
              "      <td>86.032407</td>\n",
              "      <td>4.932087</td>\n",
              "      <td>0.854837</td>\n",
              "      <td>0.878505</td>\n",
              "      <td>0.878505</td>\n",
              "      <td>0.878505</td>\n",
              "    </tr>\n",
              "    <tr>\n",
              "      <th>7</th>\n",
              "      <td>RandomForest</td>\n",
              "      <td>84.782609</td>\n",
              "      <td>87.915123</td>\n",
              "      <td>4.107417</td>\n",
              "      <td>0.836388</td>\n",
              "      <td>0.843478</td>\n",
              "      <td>0.906542</td>\n",
              "      <td>0.873874</td>\n",
              "    </tr>\n",
              "    <tr>\n",
              "      <th>5</th>\n",
              "      <td>BernoulliNB</td>\n",
              "      <td>83.152174</td>\n",
              "      <td>87.033951</td>\n",
              "      <td>3.447248</td>\n",
              "      <td>0.822369</td>\n",
              "      <td>0.839286</td>\n",
              "      <td>0.878505</td>\n",
              "      <td>0.858447</td>\n",
              "    </tr>\n",
              "    <tr>\n",
              "      <th>8</th>\n",
              "      <td>AdaBoostClassifier</td>\n",
              "      <td>82.065217</td>\n",
              "      <td>87.779321</td>\n",
              "      <td>3.153677</td>\n",
              "      <td>0.813023</td>\n",
              "      <td>0.836364</td>\n",
              "      <td>0.859813</td>\n",
              "      <td>0.847926</td>\n",
              "    </tr>\n",
              "    <tr>\n",
              "      <th>1</th>\n",
              "      <td>Logistic Regression</td>\n",
              "      <td>82.065217</td>\n",
              "      <td>86.790123</td>\n",
              "      <td>3.767696</td>\n",
              "      <td>0.814844</td>\n",
              "      <td>0.842593</td>\n",
              "      <td>0.850467</td>\n",
              "      <td>0.846512</td>\n",
              "    </tr>\n",
              "    <tr>\n",
              "      <th>6</th>\n",
              "      <td>DecisionTree</td>\n",
              "      <td>78.260870</td>\n",
              "      <td>81.558642</td>\n",
              "      <td>4.894282</td>\n",
              "      <td>0.789416</td>\n",
              "      <td>0.860215</td>\n",
              "      <td>0.747664</td>\n",
              "      <td>0.800000</td>\n",
              "    </tr>\n",
              "    <tr>\n",
              "      <th>2</th>\n",
              "      <td>SVM</td>\n",
              "      <td>69.021739</td>\n",
              "      <td>70.820988</td>\n",
              "      <td>4.571590</td>\n",
              "      <td>0.699053</td>\n",
              "      <td>0.784091</td>\n",
              "      <td>0.644860</td>\n",
              "      <td>0.707692</td>\n",
              "    </tr>\n",
              "    <tr>\n",
              "      <th>3</th>\n",
              "      <td>KNeigbors</td>\n",
              "      <td>67.391304</td>\n",
              "      <td>71.449074</td>\n",
              "      <td>4.383055</td>\n",
              "      <td>0.663187</td>\n",
              "      <td>0.715596</td>\n",
              "      <td>0.728972</td>\n",
              "      <td>0.722222</td>\n",
              "    </tr>\n",
              "  </tbody>\n",
              "</table>\n",
              "</div>\n",
              "      <button class=\"colab-df-convert\" onclick=\"convertToInteractive('df-caa19b5a-033c-4c25-8117-9b8ce39cf821')\"\n",
              "              title=\"Convert this dataframe to an interactive table.\"\n",
              "              style=\"display:none;\">\n",
              "        \n",
              "  <svg xmlns=\"http://www.w3.org/2000/svg\" height=\"24px\"viewBox=\"0 0 24 24\"\n",
              "       width=\"24px\">\n",
              "    <path d=\"M0 0h24v24H0V0z\" fill=\"none\"/>\n",
              "    <path d=\"M18.56 5.44l.94 2.06.94-2.06 2.06-.94-2.06-.94-.94-2.06-.94 2.06-2.06.94zm-11 1L8.5 8.5l.94-2.06 2.06-.94-2.06-.94L8.5 2.5l-.94 2.06-2.06.94zm10 10l.94 2.06.94-2.06 2.06-.94-2.06-.94-.94-2.06-.94 2.06-2.06.94z\"/><path d=\"M17.41 7.96l-1.37-1.37c-.4-.4-.92-.59-1.43-.59-.52 0-1.04.2-1.43.59L10.3 9.45l-7.72 7.72c-.78.78-.78 2.05 0 2.83L4 21.41c.39.39.9.59 1.41.59.51 0 1.02-.2 1.41-.59l7.78-7.78 2.81-2.81c.8-.78.8-2.07 0-2.86zM5.41 20L4 18.59l7.72-7.72 1.47 1.35L5.41 20z\"/>\n",
              "  </svg>\n",
              "      </button>\n",
              "      \n",
              "  <style>\n",
              "    .colab-df-container {\n",
              "      display:flex;\n",
              "      flex-wrap:wrap;\n",
              "      gap: 12px;\n",
              "    }\n",
              "\n",
              "    .colab-df-convert {\n",
              "      background-color: #E8F0FE;\n",
              "      border: none;\n",
              "      border-radius: 50%;\n",
              "      cursor: pointer;\n",
              "      display: none;\n",
              "      fill: #1967D2;\n",
              "      height: 32px;\n",
              "      padding: 0 0 0 0;\n",
              "      width: 32px;\n",
              "    }\n",
              "\n",
              "    .colab-df-convert:hover {\n",
              "      background-color: #E2EBFA;\n",
              "      box-shadow: 0px 1px 2px rgba(60, 64, 67, 0.3), 0px 1px 3px 1px rgba(60, 64, 67, 0.15);\n",
              "      fill: #174EA6;\n",
              "    }\n",
              "\n",
              "    [theme=dark] .colab-df-convert {\n",
              "      background-color: #3B4455;\n",
              "      fill: #D2E3FC;\n",
              "    }\n",
              "\n",
              "    [theme=dark] .colab-df-convert:hover {\n",
              "      background-color: #434B5C;\n",
              "      box-shadow: 0px 1px 3px 1px rgba(0, 0, 0, 0.15);\n",
              "      filter: drop-shadow(0px 1px 2px rgba(0, 0, 0, 0.3));\n",
              "      fill: #FFFFFF;\n",
              "    }\n",
              "  </style>\n",
              "\n",
              "      <script>\n",
              "        const buttonEl =\n",
              "          document.querySelector('#df-caa19b5a-033c-4c25-8117-9b8ce39cf821 button.colab-df-convert');\n",
              "        buttonEl.style.display =\n",
              "          google.colab.kernel.accessAllowed ? 'block' : 'none';\n",
              "\n",
              "        async function convertToInteractive(key) {\n",
              "          const element = document.querySelector('#df-caa19b5a-033c-4c25-8117-9b8ce39cf821');\n",
              "          const dataTable =\n",
              "            await google.colab.kernel.invokeFunction('convertToInteractive',\n",
              "                                                     [key], {});\n",
              "          if (!dataTable) return;\n",
              "\n",
              "          const docLinkHtml = 'Like what you see? Visit the ' +\n",
              "            '<a target=\"_blank\" href=https://colab.research.google.com/notebooks/data_table.ipynb>data table notebook</a>'\n",
              "            + ' to learn more about interactive tables.';\n",
              "          element.innerHTML = '';\n",
              "          dataTable['output_type'] = 'display_data';\n",
              "          await google.colab.output.renderOutput(dataTable, element);\n",
              "          const docLink = document.createElement('div');\n",
              "          docLink.innerHTML = docLinkHtml;\n",
              "          element.appendChild(docLink);\n",
              "        }\n",
              "      </script>\n",
              "    </div>\n",
              "  </div>\n",
              "  "
            ]
          },
          "metadata": {},
          "execution_count": 53
        }
      ]
    },
    {
      "cell_type": "code",
      "source": [
        "sns.barplot(x='Accuracy',y='Model',data=df2,color='b')\n",
        "plt.title('Model Compare Graphic');"
      ],
      "metadata": {
        "colab": {
          "base_uri": "https://localhost:8080/",
          "height": 531
        },
        "id": "-h_M7DpoXzHi",
        "outputId": "2908d268-f237-4b53-d551-e4c125bc01b7"
      },
      "execution_count": null,
      "outputs": [
        {
          "output_type": "display_data",
          "data": {
            "text/plain": [
              "<Figure size 800x550 with 1 Axes>"
            ],
            "image/png": "[encoded data removed]"
          },
          "metadata": {}
        }
      ]
    },
    {
      "cell_type": "markdown",
      "source": [
        "Model Tuning"
      ],
      "metadata": {
        "id": "ofGtupLIX4R4"
      }
    },
    {
      "cell_type": "code",
      "source": [
        "grid_models = [(XGBClassifier(), [{'learning_rate': [0.01, 0.05, 0.1], 'eval_metric': ['error']}]),\n",
        "               (KNeighborsClassifier(),[{'n_neighbors':[5,7,8,10], 'metric': ['euclidean', 'manhattan', 'chebyshev', 'minkowski']}]), \n",
        "               (DecisionTreeClassifier(),[{'criterion':['gini','entropy'],'random_state':[0]}]), \n",
        "               (RandomForestClassifier(),[{'n_estimators':[100,150,200],'criterion':['gini','entropy'],'random_state':[0]}])]"
      ],
      "metadata": {
        "id": "P4A7jTqEX6ae"
      },
      "execution_count": null,
      "outputs": []
    },
    {
      "cell_type": "code",
      "source": [
        "for i,j in grid_models:\n",
        "    grid = GridSearchCV(estimator=i,param_grid = j, scoring = 'accuracy',cv = 10)\n",
        "    grid.fit(X_train_res,y_train_res)\n",
        "    best_accuracy = grid.best_score_\n",
        "    best_param = grid.best_params_\n",
        "    print(' {}: \\n Best Accuracy: {:.2f} %'.format(i,best_accuracy*100))\n",
        "    print('')\n",
        "    print('-'*25)\n",
        "    print('')"
      ],
      "metadata": {
        "colab": {
          "base_uri": "https://localhost:8080/"
        },
        "id": "ffHE6Ts4X9uf",
        "outputId": "c3b7b6d8-e44f-4198-a654-4a07ad4313d6"
      },
      "execution_count": null,
      "outputs": [
        {
          "output_type": "stream",
          "name": "stdout",
          "text": [
            " XGBClassifier(): \n",
            " Best Accuracy: 88.04 %\n",
            "\n",
            "-------------------------\n",
            "\n",
            " KNeighborsClassifier(): \n",
            " Best Accuracy: 77.07 %\n",
            "\n",
            "-------------------------\n",
            "\n",
            " DecisionTreeClassifier(): \n",
            " Best Accuracy: 82.80 %\n",
            "\n",
            "-------------------------\n",
            "\n",
            " RandomForestClassifier(): \n",
            " Best Accuracy: 88.04 %\n",
            "\n",
            "-------------------------\n",
            "\n"
          ]
        }
      ]
    },
    {
      "cell_type": "code",
      "source": [
        "classifier = XGBClassifier(eval_metric= 'error', learning_rate= 0.1)\n",
        "classifier.fit(X_train_res, y_train_res)\n",
        "y_pred = classifier.predict(X_test)\n",
        "y_prob = classifier.predict_proba(X_test)[:,1]\n",
        "cm = confusion_matrix(y_test, y_pred)\n",
        "\n",
        "print(classification_report(y_test, y_pred))\n",
        "print(f'ROC AUC score: {roc_auc_score(y_test, y_prob)}')\n",
        "print('Accuracy Score: ',accuracy_score(y_test, y_pred))\n",
        "\n",
        "# Visualizing Confusion Matrix\n",
        "plt.figure(figsize = (8, 5))\n",
        "sns.heatmap(cm, cmap = 'Blues', annot = True, fmt = 'd', linewidths = 5, cbar = False, annot_kws = {'fontsize': 15}, \n",
        "            yticklabels = ['No heart failure', 'Heart failure'], xticklabels = ['Predicted no heart failure', 'Heart failure'])\n",
        "plt.yticks(rotation = 0)\n",
        "plt.show()\n",
        "\n",
        "# Roc Curve\n",
        "false_positive_rate, true_positive_rate, thresholds = roc_curve(y_test, y_prob)\n",
        "roc_auc = auc(false_positive_rate, true_positive_rate)\n",
        "\n",
        "sns.set_theme(style = 'white')\n",
        "plt.figure(figsize = (8, 8))\n",
        "plt.plot(false_positive_rate,true_positive_rate, color = '#b01717', label = 'AUC = %0.3f' % roc_auc)\n",
        "plt.legend(loc = 'lower right')\n",
        "plt.plot([0, 1], [0, 1], linestyle = '--', color = '#174ab0')\n",
        "plt.axis('tight')\n",
        "plt.ylabel('True Positive Rate')\n",
        "plt.xlabel('False Positive Rate')"
      ],
      "metadata": {
        "colab": {
          "base_uri": "https://localhost:8080/",
          "height": 1000
        },
        "id": "zf1uQ31KYMY7",
        "outputId": "d080631d-7f63-4421-8430-796cf3accd72"
      },
      "execution_count": null,
      "outputs": [
        {
          "output_type": "stream",
          "name": "stdout",
          "text": [
            "              precision    recall  f1-score   support\n",
            "\n",
            "           0       0.86      0.81      0.83        77\n",
            "           1       0.87      0.91      0.89       107\n",
            "\n",
            "    accuracy                           0.86       184\n",
            "   macro avg       0.86      0.86      0.86       184\n",
            "weighted avg       0.86      0.86      0.86       184\n",
            "\n",
            "ROC AUC score: 0.9259618885787111\n",
            "Accuracy Score:  0.8641304347826086\n"
          ]
        },
        {
          "output_type": "display_data",
          "data": {
            "text/plain": [
              "<Figure size 800x500 with 1 Axes>"
            ],
            "image/png": "[encoded data removed]"
          },
          "metadata": {}
        },
        {
          "output_type": "execute_result",
          "data": {
            "text/plain": [
              "Text(0.5, 0, 'False Positive Rate')"
            ]
          },
          "metadata": {},
          "execution_count": 58
        },
        {
          "output_type": "display_data",
          "data": {
            "text/plain": [
              "<Figure size 800x800 with 1 Axes>"
            ],
            "image/png": "[encoded data removed]"
          },
          "metadata": {}
        }
      ]
    }
  ]
}